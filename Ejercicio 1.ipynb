{
 "cells": [
  {
   "cell_type": "code",
   "execution_count": 1,
   "id": "130e2fd3-4d5d-436b-b18c-0a3679dda532",
   "metadata": {},
   "outputs": [
    {
     "name": "stdout",
     "output_type": "stream",
     "text": [
      "75 grados farenheit son: 23 grados celsius\n",
      "18 grados celsius son: 64 grados farenheit\n"
     ]
    }
   ],
   "source": [
    "#Cambio de grados \n",
    "def far_cel(f): #hace el cambio de grados de farenheit a celsius\n",
    "    c = int((f-32)/1.8)\n",
    "    return c\n",
    "\n",
    "def cel_far(c): #hace el cambio de grados de celsius a farenheit \n",
    "    f = int(1.8*c + 32)\n",
    "    return f\n",
    "\n",
    "import random as rnd\n",
    "x = rnd.randint(0,120) #Grados celsius \n",
    "print(x, 'grados farenheit son:', far_cel(x), 'grados celsius')\n",
    "\n",
    "y = rnd.randint(0,40) #Grados farenheit\n",
    "print(y, 'grados celsius son:', cel_far(y),'grados farenheit')"
   ]
  }
 ],
 "metadata": {
  "kernelspec": {
   "display_name": "Python 3 (ipykernel)",
   "language": "python",
   "name": "python3"
  },
  "language_info": {
   "codemirror_mode": {
    "name": "ipython",
    "version": 3
   },
   "file_extension": ".py",
   "mimetype": "text/x-python",
   "name": "python",
   "nbconvert_exporter": "python",
   "pygments_lexer": "ipython3",
   "version": "3.12.8"
  }
 },
 "nbformat": 4,
 "nbformat_minor": 5
}
