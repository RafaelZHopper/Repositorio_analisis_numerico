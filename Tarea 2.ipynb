{
 "cells": [
  {
   "cell_type": "code",
   "execution_count": 2,
   "id": "a2dbb767-3277-4ad4-8571-962ee8886546",
   "metadata": {},
   "outputs": [
    {
     "name": "stdout",
     "output_type": "stream",
     "text": [
      "Los puntos de intersseccion son:\n",
      "x = 8\n",
      "y = 10\n",
      "z = 6\n"
     ]
    }
   ],
   "source": [
    "# Intersección de trayectorias\n",
    "# Tres objetos se mueven de tal manera que sus trayectorias son:\n",
    "# 2x - 1y + 3z = 24\n",
    "# 0x + 2y - 1z = 14\n",
    "# 7x - 5y + 0z = 6\n",
    "# Encontrar su punto de interseccion\n",
    "\n",
    "from sympy import symbols, Eq, solve\n",
    "\n",
    "x, y, z = symbols('x y z')\n",
    "\n",
    "eq1 = Eq(2*x - y + 3*z, 24)\n",
    "eq2 = Eq(2*y - z, 14)\n",
    "eq3 = Eq(7*x - 5*y, 6)\n",
    "\n",
    "r = solve((eq1, eq2, eq3),(x,y,z))\n",
    "print('Los puntos de intersseccion son:')\n",
    "print('x =', r[x])\n",
    "print('y =', r[y])\n",
    "print('z =', r[z])\n"
   ]
  },
  {
   "cell_type": "code",
   "execution_count": 4,
   "id": "3a7aac51-1308-4064-9137-9e6781aa5984",
   "metadata": {},
   "outputs": [
    {
     "name": "stdout",
     "output_type": "stream",
     "text": [
      "La carga del quark up es: 2/3\n",
      "La carga del quark down es: -1/3\n"
     ]
    }
   ],
   "source": [
    "# Carga de los quarks\n",
    "# Los protones y neutrones están formados cada uno por tres quarks. Los protones poseen dos quarks up (u) y un quark down (d), \n",
    "#los neutrones poseen un quark up y dos quarks down. Si la carga de un protón es igual al positivo de la carga del electrón (+e)\n",
    "# y la carga de un neutrón es cero, determine las cargas de los quarks up y down. (Tip: suponga que +e=1.)\n",
    "\n",
    "from sympy import symbols, Eq, solve\n",
    "\n",
    "u, d = symbols('u d')\n",
    "\n",
    "proton = Eq(2*u + d, 1)\n",
    "neutron = Eq(u + 2*d, 0)\n",
    "\n",
    "r = solve((proton,neutron),(u,d))\n",
    "\n",
    "print('La carga del quark up es:', r[u])\n",
    "print('La carga del quark down es:', r[d])"
   ]
  },
  {
   "cell_type": "code",
   "execution_count": 51,
   "id": "f0c3b2e4-3312-4dfe-82eb-0e53815b58ee",
   "metadata": {},
   "outputs": [
    {
     "name": "stdout",
     "output_type": "stream",
     "text": [
      "Hay una cantidad de:\n",
      "1kg: 15 meteoros\n",
      "5kg: 8 meteoros\n",
      "10kg: 2 meteoros\n",
      "20kg: 1 meteoros\n"
     ]
    }
   ],
   "source": [
    "# Meteoros\n",
    "# El Centro de Investigación 1 examina la cantidad de meteoros que entran a la atmósfera. Con su equipo de recopilación de datos durante 8 \n",
    "#horas captó 95kg de meteoros, por fuentes externas sabemos que fueron de 4 distintas masas (1kg, 5kg, 10kg y 20kg). La cantidad total de \n",
    "# meteoros fue de 26. Otro centro de investigación captó que la cantidad de meteoros de 5kg es 4 veces la cantidad de meteoros de 10kg, y \n",
    "# el número de meteoros de 1kg es 1 menos que el doble de la cantidad de meteoros de 5kg. Después use matrices para encontrar el número asociado \n",
    "# a cada masa de meteoros.\n",
    "\n",
    "from sympy import symbols, Eq, solve\n",
    "\n",
    "m1, m5, m10, m20 = symbols('m1 m5 m10 m20')\n",
    "\n",
    "masa_total = Eq(1*m1 + 5*m5 + 10*m10 + 20*m20, 95)\n",
    "meteoros_total = Eq(m1 + m5 + m10 + m20, 26)\n",
    "x1 = Eq(m5, 4*m10)\n",
    "x2 = Eq(m1 , 2*m5-1)\n",
    "\n",
    "r =solve((masa_total, meteoros_total, x1,x2), (m1,m5,m10,m20))\n",
    "print('Hay una cantidad de:')\n",
    "print('1kg:', r[m1], 'meteoros')\n",
    "print('5kg:', r[m5], 'meteoros')\n",
    "print('10kg:', r[m10], 'meteoros')\n",
    "print('20kg:', r[m20], 'meteoros')\n"
   ]
  },
  {
   "cell_type": "code",
   "execution_count": null,
   "id": "22fe1164-45ed-48d3-9fc8-4ff40cdf50fe",
   "metadata": {},
   "outputs": [],
   "source": []
  }
 ],
 "metadata": {
  "kernelspec": {
   "display_name": "Python [conda env:base] *",
   "language": "python",
   "name": "conda-base-py"
  },
  "language_info": {
   "codemirror_mode": {
    "name": "ipython",
    "version": 3
   },
   "file_extension": ".py",
   "mimetype": "text/x-python",
   "name": "python",
   "nbconvert_exporter": "python",
   "pygments_lexer": "ipython3",
   "version": "3.12.3"
  }
 },
 "nbformat": 4,
 "nbformat_minor": 5
}
