{
 "cells": [
  {
   "cell_type": "code",
   "execution_count": null,
   "id": "30fc50d3-96e5-4466-aaf6-6751a1f6f0df",
   "metadata": {},
   "outputs": [],
   "source": [
    "# Este tratamiento flexible de funciones en el plano complejo permite encontrar las raices reales o complejas, de una función cuadrática. \n",
    "# Considera que las raices de se obtienen\n",
    " \n",
    "# z = [-b +- (b^2 -4ac)^(1/2)]/2a\n",
    "\n",
    "# En tu portafolio de clase, elabora un programa en el que uses Numpy para calcular el valor de las raices con diferentes valores dados de \n",
    "# a, b, c, para obtener ejemplos de raices reales y complejas.\n",
    "\n",
    "import numpy as np\n",
    "import random as rnd\n",
    "import cmath as cmt\n",
    "\n",
    "array = np.array([])\n",
    "for i in range(3): #obtención de los tres valores\n",
    "    x = float(input('Ingrese un número: ')) #rnd.randint(-5,5)\n",
    "    array = np.append(array,x)\n",
    "    if array[0] == 0: #niega la entrada de a = 0\n",
    "        while array[0] == 0: \n",
    "            array[0] = float(input('Ingrese un número diferente de cero: '))\n",
    "\n",
    "a = array[0] \n",
    "b = array[1]\n",
    "c = array[2]\n",
    " \n",
    "z_1 = [-b + cmt.sqrt(b**2 - (4*a*c))]/(2*a) #cálculo de z_1 y z_2\n",
    "z_2 = [-b - cmt.sqrt(b**2 - (4*a*c))]/(2*a)\n",
    "\n",
    "print('Los valores de z_1 y z_2 son:')\n",
    "print('z_1 =', z_1)\n",
    "print('z_2 =', z_2)\n",
    "\n"
   ]
  },
  {
   "cell_type": "code",
   "execution_count": null,
   "id": "69c0f043-76e0-47be-9982-9e413a25355d",
   "metadata": {},
   "outputs": [],
   "source": []
  }
 ],
 "metadata": {
  "kernelspec": {
   "display_name": "Python 3 (ipykernel)",
   "language": "python",
   "name": "python3"
  },
  "language_info": {
   "codemirror_mode": {
    "name": "ipython",
    "version": 3
   },
   "file_extension": ".py",
   "mimetype": "text/x-python",
   "name": "python",
   "nbconvert_exporter": "python",
   "pygments_lexer": "ipython3",
   "version": "3.12.8"
  }
 },
 "nbformat": 4,
 "nbformat_minor": 5
}
