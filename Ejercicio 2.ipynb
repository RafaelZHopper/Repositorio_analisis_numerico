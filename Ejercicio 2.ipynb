{
 "cells": [
  {
   "cell_type": "code",
   "execution_count": 11,
   "id": "3144ef04-3b17-45da-8f52-82ec3bda90aa",
   "metadata": {},
   "outputs": [
    {
     "name": "stdout",
     "output_type": "stream",
     "text": [
      "El seno hiperbolico de 2π usando la funcion mt.sinh es: 267.74489404101644\n",
      "El seno hiperbolico de 2π usando la funcion mt.expes: 267.74489404101644\n",
      "El seno hiperbolico de 2π usando la definicion de sinh es: 267.7448940410163\n"
     ]
    }
   ],
   "source": [
    "#Considera la definición del sinh(x)\n",
    "# sinh(x) = (e^(x) - e^(-x))/2\n",
    "\n",
    "#Elabora un programa que calcule el valor de sinh(x) en  x = 2π de tres diferentes maneras:\n",
    "import math as mt\n",
    "\n",
    "x = 2*(mt.pi)\n",
    "\n",
    "#1. Usando la funcion mt.sinh\n",
    "a = mt.sinh(x) \n",
    "print('El seno hiperbolico de 2π usando la funcion mt.sinh es:', a)\n",
    "\n",
    "#Usando la funcion mt.exp\n",
    "a1 = (mt.exp(x) - mt.exp(-x))/2 \n",
    "print('El seno hiperbolico de 2π usando la funcion mt.expes:', a1)\n",
    "\n",
    "#Usando la definicion de sinh\n",
    "a2 = (mt.e**x - mt.e**(-x))/2 \n",
    "print('El seno hiperbolico de 2π usando la definicion de sinh es:', a2)"
   ]
  },
  {
   "cell_type": "code",
   "execution_count": null,
   "id": "2653aa4c-2aec-4139-894f-adbe820f7895",
   "metadata": {},
   "outputs": [],
   "source": []
  },
  {
   "cell_type": "code",
   "execution_count": null,
   "id": "3fb34d3f-5792-48c9-b717-aed9263eaa7b",
   "metadata": {},
   "outputs": [],
   "source": []
  }
 ],
 "metadata": {
  "kernelspec": {
   "display_name": "Python 3 (ipykernel)",
   "language": "python",
   "name": "python3"
  },
  "language_info": {
   "codemirror_mode": {
    "name": "ipython",
    "version": 3
   },
   "file_extension": ".py",
   "mimetype": "text/x-python",
   "name": "python",
   "nbconvert_exporter": "python",
   "pygments_lexer": "ipython3",
   "version": "3.12.8"
  }
 },
 "nbformat": 4,
 "nbformat_minor": 5
}
