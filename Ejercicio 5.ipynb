{
 "cells": [
  {
   "cell_type": "code",
   "execution_count": 35,
   "id": "f33cc15b-9c8d-4b8e-b433-e41f0623a63f",
   "metadata": {},
   "outputs": [
    {
     "name": "stdout",
     "output_type": "stream",
     "text": [
      "El resultado de la operacion es: 9.048175556123883\n"
     ]
    }
   ],
   "source": [
    "#¿Cuál es la trayectoria de una pelota que se lanza con una rapidéz inicial v_0 a un ángulo medido de la horizontal?\n",
    "#Sabemos que la pelota seguirá una trayectoria y = f(x), donde, en ausencia de resistencia del aire,\n",
    "\n",
    "#                  f(x) = (x*tan(a)) - (g/(2*(v**2)))*((x**2)/(cos(a)**2)) + y\n",
    "\n",
    "#En tu portafolio de clase, elabora un programa en el que evalues esta expresión. \n",
    "#El programa debe escribir el valor de todas las variables involucradas junto con las unidades usadas.\n",
    "\n",
    "from sympy import symbols,  Rational, lambdify, cos, tan\n",
    "\n",
    "x, y0, a, v0 = symbols('x y_0 a v_0')\n",
    "f = (x*tan(a)) - (9.81/(2*(v0**2)))*((x**2)/(cos(a)**2)) + y0 #Función a usar\n",
    "h = lambdify([x, y0, a, v0], f)\n",
    "\n",
    "print ('El resultado de la operación es:', h(10, 3, 10, 40))\n"
   ]
  },
  {
   "cell_type": "code",
   "execution_count": null,
   "id": "e66f37da-6628-4d38-afdc-a2a23ae3dc5d",
   "metadata": {},
   "outputs": [],
   "source": []
  }
 ],
 "metadata": {
  "kernelspec": {
   "display_name": "Python [conda env:base] *",
   "language": "python",
   "name": "conda-base-py"
  },
  "language_info": {
   "codemirror_mode": {
    "name": "ipython",
    "version": 3
   },
   "file_extension": ".py",
   "mimetype": "text/x-python",
   "name": "python",
   "nbconvert_exporter": "python",
   "pygments_lexer": "ipython3",
   "version": "3.12.9"
  }
 },
 "nbformat": 4,
 "nbformat_minor": 5
}
